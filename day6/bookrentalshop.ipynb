{
 "cells": [
  {
   "cell_type": "markdown",
   "metadata": {},
   "source": [
    "## Simple book rental shop on jupyter notebook"
   ]
  },
  {
   "cell_type": "code",
   "execution_count": 1,
   "metadata": {},
   "outputs": [],
   "source": [
    "import cx_Oracle as ora"
   ]
  },
  {
   "cell_type": "markdown",
   "metadata": {},
   "source": [
    "#### DB 연결 함수\n",
    "사용법\n",
    "> myConnection()"
   ]
  },
  {
   "cell_type": "code",
   "execution_count": 2,
   "metadata": {},
   "outputs": [],
   "source": [
    "def myConnection() :\n",
    "\n",
    "    dsn = ora.makedsn('localhost', 1521, service_name = 'orcl')\n",
    "    return ora.connect(user = 'scott', password = 'tiger', dsn = dsn, encoding = 'utf-8') "
   ]
  },
  {
   "cell_type": "markdown",
   "metadata": {},
   "source": [
    "#### Divtbl 전체 데이터 조회 함수\n",
    "사용법\n",
    "> getAllDataFromDivtbl(conn) # conn은 연결 객체"
   ]
  },
  {
   "cell_type": "code",
   "execution_count": 3,
   "metadata": {},
   "outputs": [],
   "source": [
    "def getAllDataFromDivtbl(conn) :\n",
    "\n",
    "    query = 'SELECT * FROM divtbl'\n",
    "    cur = conn.cursor()\n",
    "\n",
    "    for row in cur.execute(query) :\n",
    "        print(row)\n",
    "    cur.close()"
   ]
  },
  {
   "cell_type": "markdown",
   "metadata": {},
   "source": [
    "#### Divtbl에 신규 장르정보 입력\n",
    "사용법\n",
    "> setDataIntoDivtbl(conn, tup) tup = (division, names)"
   ]
  },
  {
   "cell_type": "code",
   "execution_count": 10,
   "metadata": {},
   "outputs": [],
   "source": [
    "def setDataIntoDivtbl(conn, tup) :\n",
    "\n",
    "    query = '''INSERT INTO divtbl (division, names)\n",
    "               Values (:1, :2)'''\n",
    "    cur = conn.cursor()\n",
    "    cur.execute(query, tup)\n",
    "    cur.close()\n",
    "\n",
    "    conn.commit() # COMMIT"
   ]
  },
  {
   "cell_type": "markdown",
   "metadata": {},
   "source": [
    "#### 책 대여 프로그램 시작"
   ]
  },
  {
   "cell_type": "code",
   "execution_count": 5,
   "metadata": {},
   "outputs": [
    {
     "name": "stdout",
     "output_type": "stream",
     "text": [
      "접속\n"
     ]
    }
   ],
   "source": [
    "scott_con = myConnection()\n",
    "print('접속')"
   ]
  },
  {
   "cell_type": "markdown",
   "metadata": {},
   "source": [
    "#### 책 장르 정보조회\n",
    "> getAllDataFromDivtbl(scott_con)"
   ]
  },
  {
   "cell_type": "code",
   "execution_count": 6,
   "metadata": {},
   "outputs": [
    {
     "name": "stdout",
     "output_type": "stream",
     "text": [
      "('B001', '공포/스릴러')\n",
      "('B002', '로맨스')\n",
      "('B003', '무협')\n",
      "('B004', '전쟁/역사')\n",
      "('B005', '추리')\n",
      "('B006', 'SF/판타지')\n",
      "('I001', '프로그래밍')\n",
      "('I003', '네트워크')\n"
     ]
    }
   ],
   "source": [
    "getAllDataFromDivtbl(scott_con)"
   ]
  },
  {
   "cell_type": "markdown",
   "metadata": {},
   "source": [
    "#### 책 장르 정보 입력"
   ]
  },
  {
   "cell_type": "code",
   "execution_count": 11,
   "metadata": {},
   "outputs": [
    {
     "name": "stdout",
     "output_type": "stream",
     "text": [
      "('B001', '공포/스릴러')\n",
      "('B002', '로맨스')\n",
      "('B003', '무협')\n",
      "('B004', '전쟁/역사')\n",
      "('B005', '추리')\n",
      "('B006', 'SF/판타지')\n",
      "('I001', '프로그래밍')\n",
      "('I003', '네트워크')\n",
      "('i700', '몰라')\n"
     ]
    }
   ],
   "source": [
    "division = 'i700'\n",
    "names = '몰라'\n",
    "setDataIntoDivtbl(scott_con, (division, names))\n",
    "getAllDataFromDivtbl(scott_con)"
   ]
  },
  {
   "cell_type": "code",
   "execution_count": null,
   "metadata": {},
   "outputs": [],
   "source": []
  }
 ],
 "metadata": {
  "interpreter": {
   "hash": "e5bc2cf9d9a3d85fb4b9cf5c2acdd222f933ac2e5b2df75a3f82eb3e684a5541"
  },
  "kernelspec": {
   "display_name": "Python 3.10.1 64-bit",
   "language": "python",
   "name": "python3"
  },
  "language_info": {
   "codemirror_mode": {
    "name": "ipython",
    "version": 3
   },
   "file_extension": ".py",
   "mimetype": "text/x-python",
   "name": "python",
   "nbconvert_exporter": "python",
   "pygments_lexer": "ipython3",
   "version": "3.10.1"
  },
  "orig_nbformat": 4
 },
 "nbformat": 4,
 "nbformat_minor": 2
}
